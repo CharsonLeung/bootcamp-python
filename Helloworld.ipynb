{
 "cells": [
  {
   "cell_type": "code",
   "execution_count": 3,
   "id": "700c14dc",
   "metadata": {},
   "outputs": [
    {
     "data": {
      "text/plain": [
       "16"
      ]
     },
     "execution_count": 3,
     "metadata": {},
     "output_type": "execute_result"
    }
   ],
   "source": [
    "3 + 4\n",
    "7 + 9"
   ]
  },
  {
   "cell_type": "code",
   "execution_count": 1,
   "id": "953d101f",
   "metadata": {},
   "outputs": [
    {
     "name": "stdout",
     "output_type": "stream",
     "text": [
      "7\n",
      "16\n"
     ]
    }
   ],
   "source": [
    "print(3 + 4)\n",
    "print(7 + 9)"
   ]
  },
  {
   "cell_type": "code",
   "execution_count": 2,
   "id": "6a5aa2e6",
   "metadata": {},
   "outputs": [
    {
     "name": "stdout",
     "output_type": "stream",
     "text": [
      "1\n",
      "9\n",
      "9.5\n",
      "True\n"
     ]
    }
   ],
   "source": [
    "# int x = 1;\n",
    "x = 1 # Python doesn't need to specify the type of variable\n",
    "print(x)\n",
    "\n",
    "x = 9\n",
    "print(x)\n",
    "\n",
    "x = 9.5\n",
    "print(x)\n",
    "\n",
    "x= True # Python: True, Java: true\n",
    "print(x)"
   ]
  },
  {
   "cell_type": "code",
   "execution_count": 3,
   "id": "5be68337",
   "metadata": {},
   "outputs": [
    {
     "name": "stdout",
     "output_type": "stream",
     "text": [
      "John\n",
      "John\n",
      "Hello World!!!\n",
      "Hello World !!!\n"
     ]
    }
   ],
   "source": [
    "name = \"John\"\n",
    "print(name)\n",
    "\n",
    "name = 'John'\n",
    "print(name)\n",
    "\n",
    "print(\"Hello World!!!\")\n",
    "\n",
    "print(\"Hello World\", \"!!!\") # added space"
   ]
  },
  {
   "cell_type": "code",
   "execution_count": null,
   "id": "bb2bda29",
   "metadata": {},
   "outputs": [],
   "source": [
    "# Naming Convention\n",
    "# Java: CameLCase style for variable name: isMale = true\n",
    "# Python: underscore: is_male = True\n",
    "\n",
    "is_student = False\n",
    "\n",
    "# Invalid naming convention\n",
    "# 2name = \"Steven\" # error (cannot start with number)\n",
    "# Last-name = \"Lau\" # error (cannot start with uppercase and contain an \"-\")"
   ]
  },
  {
   "cell_type": "code",
   "execution_count": null,
   "id": "ce9cb5f1",
   "metadata": {},
   "outputs": [
    {
     "name": "stdout",
     "output_type": "stream",
     "text": [
      "24\n",
      "hellohello\n",
      "3.3333333333333335\n"
     ]
    },
    {
     "ename": "ZeroDivisionError",
     "evalue": "division by zero",
     "output_type": "error",
     "traceback": [
      "\u001b[31m---------------------------------------------------------------------------\u001b[39m",
      "\u001b[31mZeroDivisionError\u001b[39m                         Traceback (most recent call last)",
      "\u001b[36mCell\u001b[39m\u001b[36m \u001b[39m\u001b[32mIn[9]\u001b[39m\u001b[32m, line 8\u001b[39m\n\u001b[32m      6\u001b[39m \u001b[38;5;66;03m# divide /\u001b[39;00m\n\u001b[32m      7\u001b[39m \u001b[38;5;28mprint\u001b[39m(\u001b[32m10\u001b[39m / \u001b[32m3\u001b[39m)\n\u001b[32m----> \u001b[39m\u001b[32m8\u001b[39m \u001b[38;5;28mprint\u001b[39m(\u001b[32;43m10\u001b[39;49m\u001b[43m \u001b[49m\u001b[43m/\u001b[49m\u001b[43m \u001b[49m\u001b[32;43m0\u001b[39;49m) \u001b[38;5;66;03m# division by zero\u001b[39;00m\n",
      "\u001b[31mZeroDivisionError\u001b[39m: division by zero"
     ]
    }
   ],
   "source": [
    "# Math\n",
    "# multiply *\n",
    "print(3 * 8)\n",
    "print(\"hello\" * 2)\n",
    "\n",
    "# divide /\n",
    "print(10 / 3)\n",
    "# print(10 / 0) # division by zero"
   ]
  },
  {
   "cell_type": "code",
   "execution_count": 10,
   "id": "61c8478a",
   "metadata": {},
   "outputs": [
    {
     "name": "stdout",
     "output_type": "stream",
     "text": [
      "<class 'int'>\n",
      "<class 'float'>\n",
      "<class 'str'>\n",
      "<class 'bool'>\n",
      "Age23\n",
      "AgeTrue\n"
     ]
    }
   ],
   "source": [
    "# Java has 8 primitives\n",
    "# Python\n",
    "y = 3\n",
    "print(type(y))\n",
    "y = 3.4\n",
    "print(type(y))\n",
    "y = \"bootcamp\"\n",
    "print(type(y))\n",
    "y = True\n",
    "print(type(y))\n",
    "\n",
    "print(\"Age\" + str(23))\n",
    "print(\"Age\" + str(True))"
   ]
  },
  {
   "cell_type": "code",
   "execution_count": 11,
   "id": "cfb678a0",
   "metadata": {},
   "outputs": [
    {
     "name": "stdout",
     "output_type": "stream",
     "text": [
      "The student is Jennie, and the age is 27.\n"
     ]
    }
   ],
   "source": [
    "name = \"Jennie\"\n",
    "age = 27\n",
    "print(f\"The student is {name}, and the age is {age}.\")"
   ]
  },
  {
   "cell_type": "code",
   "execution_count": 14,
   "id": "3a641857",
   "metadata": {},
   "outputs": [
    {
     "name": "stdout",
     "output_type": "stream",
     "text": [
      "False\n",
      "True\n"
     ]
    }
   ],
   "source": [
    "# Case sensitive?\n",
    "# Python: Strong type and Dynamic?\n",
    "name1 = \"John\"\n",
    "name2 = \"john\"\n",
    "name3 = \"John\"\n",
    "print(name1 == name2)\n",
    "print(name1 == name3)"
   ]
  }
 ],
 "metadata": {
  "kernelspec": {
   "display_name": "Python 3",
   "language": "python",
   "name": "python3"
  },
  "language_info": {
   "codemirror_mode": {
    "name": "ipython",
    "version": 3
   },
   "file_extension": ".py",
   "mimetype": "text/x-python",
   "name": "python",
   "nbconvert_exporter": "python",
   "pygments_lexer": "ipython3",
   "version": "3.13.5"
  }
 },
 "nbformat": 4,
 "nbformat_minor": 5
}
