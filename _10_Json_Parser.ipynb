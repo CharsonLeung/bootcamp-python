{
 "cells": [
  {
   "cell_type": "code",
   "execution_count": 4,
   "id": "e27b041b",
   "metadata": {},
   "outputs": [
    {
     "name": "stdout",
     "output_type": "stream",
     "text": [
      "Vincent\n",
      "23\n",
      "{\n",
      "  \"name\": \"Vincent\",\n",
      "  \"age\": 23\n",
      "}\n"
     ]
    }
   ],
   "source": [
    "import json\n",
    "\n",
    "# from json String to dictionary\n",
    "json_str = '{\"name\" : \"Vincent\", \"age\" : 23}'\n",
    "output_dict = json.loads(json_str)\n",
    "\n",
    "print(output_dict[\"name\"])\n",
    "print(output_dict[\"age\"])\n",
    "\n",
    "# from dictionary to json String\n",
    "json_string_output = json.dumps(output_dict, indent=2)\n",
    "print(json_string_output)"
   ]
  },
  {
   "cell_type": "code",
   "execution_count": 14,
   "id": "8f839f02",
   "metadata": {},
   "outputs": [
    {
     "name": "stdout",
     "output_type": "stream",
     "text": [
      "{'username': 'jacky_chan', 'email': 'jackychan@gmail.com', 'admin': False}\n",
      "<class 'bool'>\n"
     ]
    }
   ],
   "source": [
    "# read JSON file to String\n",
    "with open(\"user_jacky.json\", \"r\") as file:\n",
    "  json_user = json.load(file)\n",
    "\n",
    "print(json_user)\n",
    "print(type(json_user['admin']))"
   ]
  },
  {
   "cell_type": "code",
   "execution_count": 7,
   "id": "5aa968f5",
   "metadata": {},
   "outputs": [],
   "source": [
    "# Write Dictionary to JSON file\n",
    "user_vincent = {\n",
    "  \"name\" : \"Vincent\",\n",
    "  \"age\" : 23,\n",
    "  \"email\" : \"vincentwong@gmail.com\"\n",
    "}\n",
    "\n",
    "with open(\"user_vincent.json\", \"w\") as file:\n",
    "  json.dump(user_vincent, file, indent=2)\n",
    "\n"
   ]
  },
  {
   "cell_type": "code",
   "execution_count": null,
   "id": "dc2e5d63",
   "metadata": {},
   "outputs": [
    {
     "name": "stdout",
     "output_type": "stream",
     "text": [
      "<class 'list'>\n"
     ]
    }
   ],
   "source": [
    "# read users.json, find all admin (lambda), \n",
    "# and then write into another json file (user_admin.json)\n",
    "with open(\"users.json\", \"r\") as file:\n",
    "  json_all_users = json.load(file)\n",
    "\n",
    "print(type(json_all_users)) # type is 'list' -> use lambda\n",
    "admin_users = list(filter(lambda x: x[\"admin\"] == True, json_all_users))\n",
    "\n",
    "with open(\"admin_users.json\", \"w\") as file:\n",
    "  json.dump(admin_users, file, indent=2)"
   ]
  },
  {
   "cell_type": "code",
   "execution_count": null,
   "id": "19c2a669",
   "metadata": {},
   "outputs": [
    {
     "name": "stdout",
     "output_type": "stream",
     "text": [
      "<class 'list'>\n",
      "[{'name': 'Jacky', 'age': 27, 'address': {'city': 'New York', 'zip': '000123'}}, {'name': 'Mary', 'age': 10, 'address': {'city': 'New York', 'zip': '000123'}}]\n",
      "['Jacky', 'Mary']\n"
     ]
    }
   ],
   "source": [
    "# live in New York\n",
    "with open(\"persons.json\", \"r\") as file:\n",
    "  json_all_persons = json.load(file)\n",
    "\n",
    "  print(type(json_all_persons))\n",
    "\n",
    "  new_yorker = list(filter(lambda x: x[\"address\"][\"city\"] == \"New York\", json_all_persons))\n",
    "\n",
    "  print(new_yorker)\n",
    "\n",
    "with open(\"new_yorker.json\", \"w\") as file:\n",
    "  json.dump(new_yorker, file, indent=2)\n",
    "\n",
    "# filter those user living in New York\n",
    "# map their name into a list\n",
    "new_yorker_name = list(map(lambda x: x['name'], new_yorker)) # Es gibt fuer lambda \"map\" function.\n",
    "print(new_yorker_name)\n",
    "\n",
    "with open(\"new_yorker_name.json\", \"w\") as file:\n",
    "  json.dump(new_yorker_name, file, indent=2)"
   ]
  }
 ],
 "metadata": {
  "kernelspec": {
   "display_name": "Python 3",
   "language": "python",
   "name": "python3"
  },
  "language_info": {
   "codemirror_mode": {
    "name": "ipython",
    "version": 3
   },
   "file_extension": ".py",
   "mimetype": "text/x-python",
   "name": "python",
   "nbconvert_exporter": "python",
   "pygments_lexer": "ipython3",
   "version": "3.13.5"
  }
 },
 "nbformat": 4,
 "nbformat_minor": 5
}
