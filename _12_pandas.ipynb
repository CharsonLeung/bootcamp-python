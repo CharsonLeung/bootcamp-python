{
 "cells": [
  {
   "cell_type": "code",
   "execution_count": 8,
   "id": "413df01a",
   "metadata": {},
   "outputs": [
    {
     "name": "stdout",
     "output_type": "stream",
     "text": [
      "<class 'pandas.core.series.Series'>\n",
      "    names  ages       city   salary\n",
      "0   Jacky    23  Hong Kong  20000.5\n",
      "1     Bob    10   New York  19500.0\n",
      "2  Steven     5  Hong Kong  15000.0\n"
     ]
    }
   ],
   "source": [
    "import pandas as pd\n",
    "\n",
    "# Series, DataFrame, Dictionary\n",
    "\n",
    "# list to series\n",
    "s = pd.Series([2, 8, -2, 10])\n",
    "print(type(s))\n",
    "\n",
    "# DataFrame\n",
    "dictionary = {\n",
    "  \"names\" : [\"Jacky\", \"Bob\", \"Steven\"],\n",
    "  \"ages\" : [23, 10, 5],\n",
    "  \"city\" : [\"Hong Kong\", \"New York\", \"Hong Kong\"],\n",
    "  \"salary\" : [20000.5, 19500, 15000]\n",
    "}\n",
    "\n",
    "# convert dictionary to dataframe\n",
    "df = pd.DataFrame(dictionary)\n",
    "print(df)"
   ]
  },
  {
   "cell_type": "code",
   "execution_count": 9,
   "id": "79960605",
   "metadata": {},
   "outputs": [
    {
     "name": "stdout",
     "output_type": "stream",
     "text": [
      "     name  age             email  salary\n",
      "1     bob    9     bob@gmail.com   20000\n",
      "2  steven   13  steven@gmail.com    8000\n",
      "3    alex   40    alex@gmail.com   19500\n",
      "4   ricky   19   ricky@gmail.com   15000\n",
      "5     leo   23     leo@gmail.com   35000\n",
      "     name  age             email  salary\n",
      "0   jacky   27   jacky@gmail.com   19500\n",
      "1     bob    9     bob@gmail.com   20000\n",
      "2  steven   13  steven@gmail.com    8000\n",
      "3    alex   40    alex@gmail.com   19500\n",
      "4   ricky   19   ricky@gmail.com   15000\n",
      "<class 'pandas.core.frame.DataFrame'>\n",
      "RangeIndex: 6 entries, 0 to 5\n",
      "Data columns (total 4 columns):\n",
      " #   Column  Non-Null Count  Dtype \n",
      "---  ------  --------------  ----- \n",
      " 0   name    6 non-null      object\n",
      " 1   age     6 non-null      int64 \n",
      " 2   email   6 non-null      object\n",
      " 3   salary  6 non-null      int64 \n",
      "dtypes: int64(2), object(2)\n",
      "memory usage: 324.0+ bytes\n",
      "None\n",
      "             age        salary\n",
      "count   6.000000      6.000000\n",
      "mean   21.833333  19500.000000\n",
      "std    11.034793   8865.664104\n",
      "min     9.000000   8000.000000\n",
      "25%    14.500000  16125.000000\n",
      "50%    21.000000  19500.000000\n",
      "75%    26.000000  19875.000000\n",
      "max    40.000000  35000.000000\n"
     ]
    }
   ],
   "source": [
    "df = pd.read_csv(\"staffs.csv\")\n",
    "\n",
    "print(df.tail())\n",
    "print(df.head())\n",
    "print(df.info())\n",
    "print(df.describe())"
   ]
  },
  {
   "cell_type": "code",
   "execution_count": 16,
   "id": "ffb0dc44",
   "metadata": {},
   "outputs": [
    {
     "name": "stdout",
     "output_type": "stream",
     "text": [
      "<class 'pandas.core.series.Series'>\n",
      "0     jacky@gmail.com\n",
      "1       bob@gmail.com\n",
      "2    steven@gmail.com\n",
      "3      alex@gmail.com\n",
      "4     ricky@gmail.com\n",
      "5       leo@gmail.com\n",
      "Name: email, dtype: object\n"
     ]
    }
   ],
   "source": [
    "salary_series = df[\"salary\"]\n",
    "print(type(salary_series)) # Series (once converted into df -> Series)\n",
    "\n",
    "# Dictionary: list, dictionary\n",
    "\n",
    "# Pandas: DataFrame consist of Series\n",
    "\n",
    "print(df[\"email\"])"
   ]
  },
  {
   "cell_type": "code",
   "execution_count": null,
   "id": "8c8fcf44",
   "metadata": {},
   "outputs": [
    {
     "name": "stdout",
     "output_type": "stream",
     "text": [
      "0    False\n",
      "1    False\n",
      "2     True\n",
      "3     True\n",
      "4    False\n",
      "5     True\n",
      "Name: name, dtype: bool\n",
      "     name  age             email  salary\n",
      "2  steven   13  steven@gmail.com    8000\n",
      "3    alex   40    alex@gmail.com   19500\n",
      "5     leo   23     leo@gmail.com   35000\n",
      "   name  age           email  salary\n",
      "3  alex   40  alex@gmail.com   19500\n"
     ]
    }
   ],
   "source": [
    "print(df[\"name\"].str.contains(\"e\"))\n",
    "\n",
    "print(df.loc[df[\"name\"].str.contains(\"e\")]) # locate rows those contains \"e\"\n",
    "\n",
    "# and & or |\n",
    "# Normal Python: if else -> and or\n",
    "\n",
    "# DataFrame -> & |\n",
    "print(df.loc[(df[\"name\"].str.contains(\"e\")) & (df[\"age\"] > 30)]) # () all conditions first"
   ]
  }
 ],
 "metadata": {
  "kernelspec": {
   "display_name": "Python 3",
   "language": "python",
   "name": "python3"
  },
  "language_info": {
   "codemirror_mode": {
    "name": "ipython",
    "version": 3
   },
   "file_extension": ".py",
   "mimetype": "text/x-python",
   "name": "python",
   "nbconvert_exporter": "python",
   "pygments_lexer": "ipython3",
   "version": "3.13.5"
  }
 },
 "nbformat": 4,
 "nbformat_minor": 5
}
