{
 "cells": [
  {
   "cell_type": "code",
   "execution_count": 5,
   "id": "78940d64",
   "metadata": {},
   "outputs": [
    {
     "name": "stdout",
     "output_type": "stream",
     "text": [
      "hello world\n",
      "Grade=B\n"
     ]
    }
   ],
   "source": [
    "# ==, !=, >, <, >=, <=\n",
    "\n",
    "# and or\n",
    "x = 10\n",
    "if (x >= 7):\n",
    "  print(\"hello world\")\n",
    "else:\n",
    "  print(\"goodbye\")\n",
    "\n",
    "score = 85\n",
    "if (score >= 90):\n",
    "  grade = \"A\"\n",
    "elif (score >= 80):\n",
    "  grade = \"B\"\n",
    "else:\n",
    "  grade = \"F\"\n",
    "\n",
    "print(f\"Grade={grade}\")"
   ]
  },
  {
   "cell_type": "code",
   "execution_count": null,
   "id": "b5f7501d",
   "metadata": {},
   "outputs": [
    {
     "name": "stdout",
     "output_type": "stream",
     "text": [
      "Age=48, fee=10\n",
      "Age=48, fee=10\n",
      "Age=67, Fee=2\n"
     ]
    }
   ],
   "source": [
    "# age < 5 or age > 65, fee = 2, otherwise fee = 10\n",
    "age = 48\n",
    "\n",
    "if 5 <= age <= 65:\n",
    "  fee = 10\n",
    "else:\n",
    "  fee  = 2\n",
    "\n",
    "print(f\"Age={age}, fee={fee}\")\n",
    "\n",
    "if age < 5 or age > 65:\n",
    "  fee = 2\n",
    "else:\n",
    "  fee = 10\n",
    "\n",
    "print(f\"Age={age}, fee={fee}\")\n",
    "\n",
    "age = 67\n",
    "fee = 10 if 5 <= age <= 65 else 2\n",
    "\n",
    "print(f\"Age={age}, Fee={fee}\")"
   ]
  },
  {
   "cell_type": "code",
   "execution_count": null,
   "id": "5dffafe3",
   "metadata": {},
   "outputs": [
    {
     "name": "stdout",
     "output_type": "stream",
     "text": [
      "Female\n"
     ]
    }
   ],
   "source": [
    "is_male = False\n",
    "\n",
    "if not is_male: # \"not\" only for booleans\n",
    "  print(\"Female\")\n",
    "else:\n",
    "  print(\"Male\")"
   ]
  },
  {
   "cell_type": "code",
   "execution_count": null,
   "id": "f352204a",
   "metadata": {},
   "outputs": [
    {
     "name": "stdout",
     "output_type": "stream",
     "text": [
      "Login success.\n"
     ]
    }
   ],
   "source": [
    "password = \"admin1234\"\n",
    "entered_password = \"admin1234\"\n",
    "\n",
    "if password == entered_password:\n",
    "  print(\"Login success.\")\n",
    "else:\n",
    "  print(\"Login Fail.\")\n",
    "\n",
    "if password != entered_password:\n",
    "  print(\"Login Fail.\")\n",
    "else:\n",
    "  print(\"Login Success.\")"
   ]
  },
  {
   "cell_type": "code",
   "execution_count": 17,
   "id": "ac3d6bf1",
   "metadata": {},
   "outputs": [
    {
     "name": "stdout",
     "output_type": "stream",
     "text": [
      "hello\n",
      "hello\n"
     ]
    }
   ],
   "source": [
    "age = 19\n",
    "is_male = True\n",
    "\n",
    "# and goes first, then or\n",
    "if (is_male == False) or (is_male == True and age >= 18):\n",
    "  print(\"hello\")\n",
    "else:\n",
    "  print(\"goodbye\")\n",
    "\n",
    "if (is_male == False and age >= 20) or (is_male == True and age >= 18):\n",
    "  print(\"hello\")\n",
    "else:\n",
    "  print(\"goodbye\")"
   ]
  },
  {
   "cell_type": "code",
   "execution_count": 23,
   "id": "358266c5",
   "metadata": {},
   "outputs": [
    {
     "name": "stdout",
     "output_type": "stream",
     "text": [
      "She is Female.\n",
      "ODD number.\n"
     ]
    }
   ],
   "source": [
    "# Java: switch\n",
    "# Python: match\n",
    "\n",
    "is_male = False\n",
    "\n",
    "match is_male:\n",
    "  case True:\n",
    "    print(\"He is male.\")\n",
    "  case False:\n",
    "    print(\"She is Female.\")\n",
    "  case _:\n",
    "    print(\"Neutral\")\n",
    "\n",
    "age = 48\n",
    "is_with_discount = False\n",
    "\n",
    "random_number = 3 # 1 - 5\n",
    "match random_number:\n",
    "  case 1 | 3 | 5:\n",
    "    print(\"ODD number.\")\n",
    "  case 2 | 4:\n",
    "    print(\"EVEN number.\")"
   ]
  },
  {
   "cell_type": "code",
   "execution_count": null,
   "id": "13084b95",
   "metadata": {},
   "outputs": [],
   "source": [
    "name = \"Lucas\"\n",
    "if (type(name)) == str())\n",
    "  print (\"It is string type\")\n",
    "\n",
    "match name:\n",
    "    case str():\n",
    "      print(\"it is string name.\")"
   ]
  }
 ],
 "metadata": {
  "kernelspec": {
   "display_name": "Python 3",
   "language": "python",
   "name": "python3"
  },
  "language_info": {
   "codemirror_mode": {
    "name": "ipython",
    "version": 3
   },
   "file_extension": ".py",
   "mimetype": "text/x-python",
   "name": "python",
   "nbconvert_exporter": "python",
   "pygments_lexer": "ipython3",
   "version": "3.13.5"
  }
 },
 "nbformat": 4,
 "nbformat_minor": 5
}
