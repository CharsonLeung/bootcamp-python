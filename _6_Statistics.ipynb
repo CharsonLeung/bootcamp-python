{
 "cells": [
  {
   "cell_type": "code",
   "execution_count": 7,
   "id": "70c4d511",
   "metadata": {},
   "outputs": [
    {
     "name": "stdout",
     "output_type": "stream",
     "text": [
      "5\n",
      "3.14\n",
      "3.14\n",
      "3.15\n"
     ]
    }
   ],
   "source": [
    "print(abs(-5))\n",
    "print(round(3.14159, 2))\n",
    "print(round(3.144, 2))\n",
    "print(round(3.145, 2))"
   ]
  },
  {
   "cell_type": "code",
   "execution_count": 9,
   "id": "e6b7dceb",
   "metadata": {},
   "outputs": [
    {
     "name": "stdout",
     "output_type": "stream",
     "text": [
      "3.0\n",
      "64.0\n",
      "4\n",
      "3\n",
      "3.141592653589793\n",
      "38.48451000647496\n"
     ]
    }
   ],
   "source": [
    "import math\n",
    "\n",
    "print(math.sqrt(9)) # 3.0\n",
    "print(math.pow(4, 3)) # 64.0\n",
    "print(math.ceil(3.2))\n",
    "print(math.floor(3.7))\n",
    "print(math.pi)\n",
    "\n",
    "radius = 3.5\n",
    "circle_area = radius ** 2 * math.pi\n",
    "print(circle_area)"
   ]
  },
  {
   "cell_type": "code",
   "execution_count": 13,
   "id": "16c26ac7",
   "metadata": {},
   "outputs": [
    {
     "name": "stdout",
     "output_type": "stream",
     "text": [
      "40.0\n",
      "47.875\n",
      "37.96779650478246\n",
      "99\n"
     ]
    }
   ],
   "source": [
    "import statistics\n",
    "\n",
    "data = [20, 50, 70, 30, 10, 99, 5, 99]\n",
    "\n",
    "print(statistics.median(data))\n",
    "print(statistics.mean(data))\n",
    "print(statistics.stdev(data))\n",
    "print(statistics.mode(data))"
   ]
  },
  {
   "cell_type": "code",
   "execution_count": 17,
   "id": "18987178",
   "metadata": {},
   "outputs": [
    {
     "name": "stdout",
     "output_type": "stream",
     "text": [
      "8\n",
      "7\n",
      "7\n"
     ]
    }
   ],
   "source": [
    "import math\n",
    "\n",
    "no_of_students = 38\n",
    "group_size = 5\n",
    "# how many group\n",
    "no_of_group = math.ceil(no_of_students / group_size)\n",
    "print(no_of_group)\n",
    "\n",
    "print(no_of_students // group_size)\n",
    "print(math.floor(no_of_students / group_size))"
   ]
  },
  {
   "cell_type": "code",
   "execution_count": 21,
   "id": "d9e6cf2c",
   "metadata": {},
   "outputs": [
    {
     "name": "stdout",
     "output_type": "stream",
     "text": [
      "0.30000000000000004\n",
      "0.3\n",
      "0.3\n"
     ]
    }
   ],
   "source": [
    "result = 0.1 + 0.2\n",
    "print(result)\n",
    "\n",
    "from decimal import Decimal\n",
    "number_a = 0.1\n",
    "number_b = 0.2\n",
    "print(round(number_a + number_b, 2))\n",
    "\n",
    "# Java: BigDecimal.valueOf() or new BigDecimal(\"0.1\")\n",
    "print(Decimal(str(number_a)) + Decimal(str(number_b)))"
   ]
  }
 ],
 "metadata": {
  "kernelspec": {
   "display_name": "Python 3",
   "language": "python",
   "name": "python3"
  },
  "language_info": {
   "codemirror_mode": {
    "name": "ipython",
    "version": 3
   },
   "file_extension": ".py",
   "mimetype": "text/x-python",
   "name": "python",
   "nbconvert_exporter": "python",
   "pygments_lexer": "ipython3",
   "version": "3.13.5"
  }
 },
 "nbformat": 4,
 "nbformat_minor": 5
}
