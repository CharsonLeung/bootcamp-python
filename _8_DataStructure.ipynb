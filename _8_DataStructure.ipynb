{
 "cells": [
  {
   "cell_type": "code",
   "execution_count": 6,
   "id": "6e26010d",
   "metadata": {},
   "outputs": [
    {
     "name": "stdout",
     "output_type": "stream",
     "text": [
      "['John', 'Lucas', 'Leo', 'Jennie']\n",
      "['John', 'Lucas', 'Peter', 'Leo', 'Jennie']\n",
      "['John', 'Lucas', 'Peter', 'Leo']\n",
      "['Jennie', 'John', 'Leo', 'Lucas', 'Peter']\n",
      "['Jennie', 'Leo', 'Lucas', 'Peter']\n",
      "[]\n"
     ]
    }
   ],
   "source": [
    "# Data Types:\n",
    "# bool, str, int, float\n",
    "\n",
    "# Data Structures:\n",
    "# List, Set, Dictinary, Tuple\n",
    "\n",
    "names = [\"John\", \"Steven\", \"Lucas\", \"Leo\"]\n",
    "names.append(\"Jennie\")\n",
    "names.remove(\"Steven\")\n",
    "print(names)\n",
    "names.insert(2, \"Peter\")\n",
    "print(names)\n",
    "\n",
    "print(names[:4])\n",
    "\n",
    "names.sort()\n",
    "print(names)\n",
    "\n",
    "names.pop(1)\n",
    "print(names)\n",
    "\n",
    "names.clear()\n",
    "print(names)"
   ]
  },
  {
   "cell_type": "code",
   "execution_count": 7,
   "id": "d2048dc2",
   "metadata": {},
   "outputs": [
    {
     "name": "stdout",
     "output_type": "stream",
     "text": [
      "['John', 'Vincent', 'Jennie', 100, 200, -1]\n"
     ]
    }
   ],
   "source": [
    "list1 = [\"John\", \"Vincent\", \"Jennie\"]\n",
    "list2 = [100, 200, -1]\n",
    "list3 = list1 + list2\n",
    "print(list3)"
   ]
  },
  {
   "cell_type": "code",
   "execution_count": null,
   "id": "9ee3483c",
   "metadata": {},
   "outputs": [
    {
     "name": "stdout",
     "output_type": "stream",
     "text": [
      "<class 'set'>\n",
      "{2, 9, 10, -3}\n",
      "{2, 9, 10, -3}\n",
      "{2, 8, 9, 10, -5, -3}\n",
      "{8, 9, 2, -5}\n"
     ]
    }
   ],
   "source": [
    "# Java: new ArrayList, new HashSet\n",
    "# Python: [] -> List, {} -> Set\n",
    "\n",
    "numbers = {2, 4, 9, -3}\n",
    "print(type(numbers))\n",
    "\n",
    "# Set -> No ordering,\n",
    "numbers.add(10)\n",
    "numbers.remove(4)\n",
    "print(numbers) # {2, 9, 10, -3}\n",
    "\n",
    "numbers.add(10)\n",
    "print(numbers) # {2, 9, 10, -3}\n",
    "\n",
    "numbers2 = {8, 9, 2, -5}\n",
    "numbers.update(numbers2)\n",
    "print(numbers) # {2, 8, 9, 10, -5, -3}\n",
    "\n",
    "print(numbers.intersection(numbers2)) # {8, 9, 2, -5}\n",
    "\n",
    "# union\n",
    "# |"
   ]
  }
 ],
 "metadata": {
  "kernelspec": {
   "display_name": "Python 3",
   "language": "python",
   "name": "python3"
  },
  "language_info": {
   "codemirror_mode": {
    "name": "ipython",
    "version": 3
   },
   "file_extension": ".py",
   "mimetype": "text/x-python",
   "name": "python",
   "nbconvert_exporter": "python",
   "pygments_lexer": "ipython3",
   "version": "3.13.5"
  }
 },
 "nbformat": 4,
 "nbformat_minor": 5
}
