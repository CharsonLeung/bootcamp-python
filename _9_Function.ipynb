{
 "cells": [
  {
   "cell_type": "code",
   "execution_count": 2,
   "id": "c74d5266",
   "metadata": {},
   "outputs": [
    {
     "name": "stdout",
     "output_type": "stream",
     "text": [
      "hello!\n"
     ]
    }
   ],
   "source": [
    "def say_hello():\n",
    "  print(\"hello!\")\n",
    "\n",
    "say_hello()"
   ]
  },
  {
   "cell_type": "code",
   "execution_count": 3,
   "id": "b382379e",
   "metadata": {},
   "outputs": [
    {
     "name": "stdout",
     "output_type": "stream",
     "text": [
      "14\n",
      "1\n"
     ]
    }
   ],
   "source": [
    "def sum(x, y):\n",
    "  return x + y\n",
    "\n",
    "print(sum(10, 4))\n",
    "print(sum(-3, 4))"
   ]
  },
  {
   "cell_type": "code",
   "execution_count": null,
   "id": "2f6cb616",
   "metadata": {},
   "outputs": [
    {
     "name": "stdout",
     "output_type": "stream",
     "text": [
      "max=100, min=-5\n"
     ]
    }
   ],
   "source": [
    "# Python return more than one values\n",
    "numbers = [90, -5, 3, 9, 100]\n",
    "\n",
    "def get_min_max(nums):\n",
    "  return min(nums), max(nums)\n",
    "\n",
    "min, max = get_min_max(numbers)\n",
    "print(f\"max={max}, min={min}\")"
   ]
  },
  {
   "cell_type": "code",
   "execution_count": 6,
   "id": "2f0fbe31",
   "metadata": {},
   "outputs": [
    {
     "name": "stdout",
     "output_type": "stream",
     "text": [
      "9\n",
      "39.4\n",
      "51.12044600744403\n"
     ]
    }
   ],
   "source": [
    "import statistics\n",
    "\n",
    "def get_stats(nums):\n",
    "  return statistics.median(nums), statistics.mean(nums), statistics.stdev(nums)\n",
    "\n",
    "median, mean, sd = get_stats(numbers)\n",
    "print(median)\n",
    "print(mean)\n",
    "print(sd)"
   ]
  },
  {
   "cell_type": "code",
   "execution_count": null,
   "id": "d9dc71e2",
   "metadata": {},
   "outputs": [
    {
     "name": "stdout",
     "output_type": "stream",
     "text": [
      "hello, Jennie\n",
      "hello, Jacky\n"
     ]
    }
   ],
   "source": [
    "def greeting(name=\"Jacky\"): # default value name=\"name\"\n",
    "  print(f\"hello, {name}\")\n",
    "\n",
    "greeting(\"Jennie\")\n",
    "greeting()"
   ]
  },
  {
   "cell_type": "code",
   "execution_count": null,
   "id": "54f528cf",
   "metadata": {},
   "outputs": [
    {
     "name": "stdout",
     "output_type": "stream",
     "text": [
      "0.3\n",
      "0.30000000000000004\n"
     ]
    }
   ],
   "source": [
    "from decimal import Decimal\n",
    "total = Decimal(\"0.1\") + Decimal(\"0.2\")\n",
    "print(total)\n",
    "\n",
    "print(0.1 + 0.2)"
   ]
  },
  {
   "cell_type": "code",
   "execution_count": null,
   "id": "7bca409e",
   "metadata": {},
   "outputs": [
    {
     "name": "stdout",
     "output_type": "stream",
     "text": [
      "False\n",
      "True\n",
      "['Helen', 'Wing', 'John', 'Helen']\n",
      "['Helen', 'John', 'Wing']\n"
     ]
    }
   ],
   "source": [
    "# Write a function to determine the given unmber is an odd number\n",
    "def is_odd(num):\n",
    "  if (num % 2 == 1):\n",
    "    return True\n",
    "  return False\n",
    "\n",
    "print(is_odd(100))\n",
    "print(is_odd(99))\n",
    "\n",
    "# list set\n",
    "names = [\"Helen\", \"Wing\", \"John\", \"Helen\"]\n",
    "print(names)\n",
    "print(list(set(names))) # set-ize -> list-ize again"
   ]
  },
  {
   "cell_type": "code",
   "execution_count": 27,
   "id": "adfc49ba",
   "metadata": {},
   "outputs": [
    {
     "name": "stdout",
     "output_type": "stream",
     "text": [
      "64\n",
      "[10, 18, 60]\n",
      "['Jennie', 'Vincent', 'Jacky']\n"
     ]
    }
   ],
   "source": [
    "# Java Stream (lambda)\n",
    "\n",
    "# map\n",
    "square_formula = lambda x: x * x\n",
    "print(square_formula(8))\n",
    "\n",
    "# filtering\n",
    "numbers = [7, 10, 5, 19, 3, 18, 60]\n",
    "even_numbers = list(filter(lambda x: x % 2 == 0, numbers))\n",
    "print(even_numbers)\n",
    "\n",
    "names = [\"Jennie\", \"Vincent\", \"Ann\", \"Jacky\"]\n",
    "# retain name length > 4\n",
    "name_list = list(filter(lambda x: len(x) > 4, names))\n",
    "print(name_list)"
   ]
  }
 ],
 "metadata": {
  "kernelspec": {
   "display_name": "Python 3",
   "language": "python",
   "name": "python3"
  },
  "language_info": {
   "codemirror_mode": {
    "name": "ipython",
    "version": 3
   },
   "file_extension": ".py",
   "mimetype": "text/x-python",
   "name": "python",
   "nbconvert_exporter": "python",
   "pygments_lexer": "ipython3",
   "version": "3.13.5"
  }
 },
 "nbformat": 4,
 "nbformat_minor": 5
}
